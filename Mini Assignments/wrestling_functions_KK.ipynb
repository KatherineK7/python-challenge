{
 "cells": [
  {
   "cell_type": "code",
   "execution_count": 18,
   "metadata": {},
   "outputs": [],
   "source": [
    "import os\n",
    "import csv"
   ]
  },
  {
   "cell_type": "code",
   "execution_count": 22,
   "metadata": {},
   "outputs": [],
   "source": [
    "# Path to collect data from the Resources folder\n",
    "\n",
    "csv_path = os.path.join('..', 'Resources','WWE-Data-2016.csv')\n",
    "\n",
    "def print_percentages(wrestler_data):\n",
    "    name = str(wrestler_data[0])\n",
    "    wins = int(wrestler_data[1])\n",
    "    losses = int(wrestler_data[2])\n",
    "    draws = int(wrestler_data[3])\n",
    "\n",
    "# Find the total number of matches wrestled\n",
    "    total = wins + losses + draws\n",
    "\n",
    "# Find the percentage of matches won\n",
    "    win_percentage = (wins / total)*100\n",
    "# Find the percentage of matches lost\n",
    "    loss_percentage = (losses/total)*100\n",
    "# Find the percentage of matches drawn\n",
    "    draw_percentage = (draws/total)*100\n",
    "# Print out the wrestler's name and their percentage stats\n",
    "    print(f\"Stats for {name}\")\n",
    "    print(f\"Win Percentage: {win_percentage}\")\n",
    "    print(f\"Loss Percentage: {loss_percentage}\")\n",
    "    print(f\"Draw Percentage: {draw_percentage}\")"
   ]
  },
  {
   "cell_type": "code",
   "execution_count": 23,
   "metadata": {},
   "outputs": [
    {
     "name": "stdout",
     "output_type": "stream",
     "text": [
      "What wrestler do you want to look for? Tyler Breeze\n",
      "Stats for Tyler Breeze\n",
      "Win Percentage: 9.340659340659341\n",
      "Loss Percentage: 89.56043956043956\n",
      "Draw Percentage: 1.098901098901099\n",
      "None\n"
     ]
    }
   ],
   "source": [
    "# Read in the CSV file\n",
    "with open(csv_path) as csvfile:\n",
    "\n",
    "    # Split the data on commas\n",
    "    csvreader = csv.reader(csvfile, delimiter=',')\n",
    "\n",
    "    # Prompt the user for what wrestler they would like to search for\n",
    "    wrestler_name = input(\"What wrestler do you want to look for? \")\n",
    "\n",
    "    # Loop through the data\n",
    "    for row in csvreader:\n",
    "\n",
    "        # If the wrestler's name in a row is equal to that which the user input, run the 'print_percentages()' function\n",
    "        if wrestler_name == row[0]:\n",
    "            print(print_percentages(row))"
   ]
  }
 ],
 "metadata": {
  "kernelspec": {
   "display_name": "Python 3",
   "language": "python",
   "name": "python3"
  },
  "language_info": {
   "codemirror_mode": {
    "name": "ipython",
    "version": 3
   },
   "file_extension": ".py",
   "mimetype": "text/x-python",
   "name": "python",
   "nbconvert_exporter": "python",
   "pygments_lexer": "ipython3",
   "version": "3.8.3"
  }
 },
 "nbformat": 4,
 "nbformat_minor": 2
}
